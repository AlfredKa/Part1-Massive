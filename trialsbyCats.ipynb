{
 "cells": [
  {
   "cell_type": "markdown",
   "source": [],
   "metadata": {
    "collapsed": false
   },
   "id": "4f9263d1e3c737d0"
  },
  {
   "cell_type": "code",
   "execution_count": 4,
   "outputs": [
    {
     "name": "stdout",
     "output_type": "stream",
     "text": [
      "Collecting jsonlines\n",
      "  Downloading jsonlines-4.0.0-py3-none-any.whl (8.7 kB)\n",
      "Requirement already satisfied: attrs>=19.2.0 in c:\\users\\wachi\\onedrive - strathmore university\\documents\\3.2\\computer graphics\\project\\venvs\\lib\\site-packages (from jsonlines) (23.1.0)\n",
      "Installing collected packages: jsonlines\n",
      "Successfully installed jsonlines-4.0.0\n",
      "Note: you may need to restart the kernel to use updated packages.\n"
     ]
    },
    {
     "name": "stderr",
     "output_type": "stream",
     "text": [
      "\n",
      "[notice] A new release of pip available: 22.3.1 -> 23.2.1\n",
      "[notice] To update, run: python.exe -m pip install --upgrade pip\n"
     ]
    }
   ],
   "source": [
    "pip install jsonlines"
   ],
   "metadata": {
    "collapsed": false,
    "ExecuteTime": {
     "end_time": "2023-09-25T12:31:28.380437500Z",
     "start_time": "2023-09-25T12:31:15.303410700Z"
    }
   },
   "id": "7d3e7ad84b554470"
  },
  {
   "cell_type": "code",
   "execution_count": 23,
   "outputs": [],
   "source": [
    "import json\n",
    "import os \n",
    "\n",
    "f = open(\"en-US.jsonl\", \"r\")\n",
    "lines = f.readlines()\n",
    "for line_no , line in enumerate(lines):\n",
    "    try:\n",
    "        data = json.loads(line)\n",
    "    except Exception:\n",
    "        print(line_no)\n",
    "        print(line)"
   ],
   "metadata": {
    "collapsed": false,
    "ExecuteTime": {
     "end_time": "2023-09-25T18:11:44.840367Z",
     "start_time": "2023-09-25T18:11:44.748627700Z"
    }
   },
   "id": "2089897ca8dbb1e"
  },
  {
   "cell_type": "code",
   "execution_count": 26,
   "outputs": [],
   "source": [
    "import pandas as pd \n",
    "import jsonlines"
   ],
   "metadata": {
    "collapsed": false,
    "ExecuteTime": {
     "end_time": "2023-09-25T18:13:33.232092600Z",
     "start_time": "2023-09-25T18:13:31.055379800Z"
    }
   },
   "id": "a4f09fce35b5db9d"
  },
  {
   "cell_type": "code",
   "execution_count": 33,
   "outputs": [],
   "source": [
    "english_file = pd.read_json(\"en-US.jsonl\", lines=True)\n"
   ],
   "metadata": {
    "collapsed": false,
    "ExecuteTime": {
     "end_time": "2023-09-25T18:32:26.004277300Z",
     "start_time": "2023-09-25T18:32:25.888288400Z"
    }
   },
   "id": "e8b4e6383089db11"
  },
  {
   "cell_type": "code",
   "execution_count": 27,
   "outputs": [],
   "source": [
    "sample = pd.read_json('data\\\\af-ZA.jsonl', lines=True)"
   ],
   "metadata": {
    "collapsed": false,
    "ExecuteTime": {
     "end_time": "2023-09-25T18:13:35.403408400Z",
     "start_time": "2023-09-25T18:13:34.958293300Z"
    }
   },
   "id": "a362aef6fa62070f"
  },
  {
   "cell_type": "code",
   "execution_count": 28,
   "outputs": [
    {
     "data": {
      "text/plain": "   id locale partition scenario             intent  \\\n0   0  af-ZA      test    alarm          alarm_set   \n1   1  af-ZA     train    alarm          alarm_set   \n2   2  af-ZA     train    alarm          alarm_set   \n3   3  af-ZA      test    audio  audio_volume_mute   \n4   4  af-ZA     train    audio  audio_volume_mute   \n\n                                       utt  \\\n0     maak my wakker om vyf v. m. die week   \n1  maak my wakker nege-uur v. m. op vrydag   \n2    stel 'n alarm vir twee ure van nou af   \n3                                     stil   \n4                          janneman stilte   \n\n                                           annot_utt  worker_id  \\\n0  maak my wakker om [time : vyf v. m.] [date : d...         37   \n1  maak my wakker [time : nege-uur v. m.] op [dat...         20   \n2     stel 'n alarm vir [time : twee ure van nou af]         20   \n3                                               stil         40   \n4                                    janneman stilte         40   \n\n                                         slot_method  \\\n0  [{'slot': 'time', 'method': 'localization'}, {...   \n1  [{'slot': 'time', 'method': 'translation'}, {'...   \n2        [{'slot': 'time', 'method': 'translation'}]   \n3                                                 []   \n4                                                 []   \n\n                                           judgments  \n0  [{'worker_id': '20', 'intent_score': 1, 'slots...  \n1  [{'worker_id': '40', 'intent_score': 1, 'slots...  \n2  [{'worker_id': '64', 'intent_score': 1, 'slots...  \n3  [{'worker_id': '45', 'intent_score': 1, 'slots...  \n4  [{'worker_id': '45', 'intent_score': 1, 'slots...  ",
      "text/html": "<div>\n<style scoped>\n    .dataframe tbody tr th:only-of-type {\n        vertical-align: middle;\n    }\n\n    .dataframe tbody tr th {\n        vertical-align: top;\n    }\n\n    .dataframe thead th {\n        text-align: right;\n    }\n</style>\n<table border=\"1\" class=\"dataframe\">\n  <thead>\n    <tr style=\"text-align: right;\">\n      <th></th>\n      <th>id</th>\n      <th>locale</th>\n      <th>partition</th>\n      <th>scenario</th>\n      <th>intent</th>\n      <th>utt</th>\n      <th>annot_utt</th>\n      <th>worker_id</th>\n      <th>slot_method</th>\n      <th>judgments</th>\n    </tr>\n  </thead>\n  <tbody>\n    <tr>\n      <th>0</th>\n      <td>0</td>\n      <td>af-ZA</td>\n      <td>test</td>\n      <td>alarm</td>\n      <td>alarm_set</td>\n      <td>maak my wakker om vyf v. m. die week</td>\n      <td>maak my wakker om [time : vyf v. m.] [date : d...</td>\n      <td>37</td>\n      <td>[{'slot': 'time', 'method': 'localization'}, {...</td>\n      <td>[{'worker_id': '20', 'intent_score': 1, 'slots...</td>\n    </tr>\n    <tr>\n      <th>1</th>\n      <td>1</td>\n      <td>af-ZA</td>\n      <td>train</td>\n      <td>alarm</td>\n      <td>alarm_set</td>\n      <td>maak my wakker nege-uur v. m. op vrydag</td>\n      <td>maak my wakker [time : nege-uur v. m.] op [dat...</td>\n      <td>20</td>\n      <td>[{'slot': 'time', 'method': 'translation'}, {'...</td>\n      <td>[{'worker_id': '40', 'intent_score': 1, 'slots...</td>\n    </tr>\n    <tr>\n      <th>2</th>\n      <td>2</td>\n      <td>af-ZA</td>\n      <td>train</td>\n      <td>alarm</td>\n      <td>alarm_set</td>\n      <td>stel 'n alarm vir twee ure van nou af</td>\n      <td>stel 'n alarm vir [time : twee ure van nou af]</td>\n      <td>20</td>\n      <td>[{'slot': 'time', 'method': 'translation'}]</td>\n      <td>[{'worker_id': '64', 'intent_score': 1, 'slots...</td>\n    </tr>\n    <tr>\n      <th>3</th>\n      <td>3</td>\n      <td>af-ZA</td>\n      <td>test</td>\n      <td>audio</td>\n      <td>audio_volume_mute</td>\n      <td>stil</td>\n      <td>stil</td>\n      <td>40</td>\n      <td>[]</td>\n      <td>[{'worker_id': '45', 'intent_score': 1, 'slots...</td>\n    </tr>\n    <tr>\n      <th>4</th>\n      <td>4</td>\n      <td>af-ZA</td>\n      <td>train</td>\n      <td>audio</td>\n      <td>audio_volume_mute</td>\n      <td>janneman stilte</td>\n      <td>janneman stilte</td>\n      <td>40</td>\n      <td>[]</td>\n      <td>[{'worker_id': '45', 'intent_score': 1, 'slots...</td>\n    </tr>\n  </tbody>\n</table>\n</div>"
     },
     "execution_count": 28,
     "metadata": {},
     "output_type": "execute_result"
    }
   ],
   "source": [
    "sample.head()"
   ],
   "metadata": {
    "collapsed": false,
    "ExecuteTime": {
     "end_time": "2023-09-25T18:13:42.456274200Z",
     "start_time": "2023-09-25T18:13:42.382210900Z"
    }
   },
   "id": "714093bcbe9ec4a0"
  },
  {
   "cell_type": "code",
   "execution_count": 36,
   "outputs": [
    {
     "data": {
      "text/plain": "   id locale partition scenario             intent  \\\n0   0  en-US      test    alarm          alarm_set   \n1   1  en-US     train    alarm          alarm_set   \n2   2  en-US     train    alarm          alarm_set   \n3   3  en-US      test    audio  audio_volume_mute   \n4   4  en-US     train    audio  audio_volume_mute   \n\n                                   utt  \\\n0      wake me up at five am this week   \n1      wake me up at nine am on friday   \n2  set an alarm for two hours from now   \n3                                quiet   \n4                           olly quiet   \n\n                                           annot_utt  worker_id  \n0  wake me up at [time : five am] [date : this week]          1  \n1  wake me up at [time : nine am] on [date : friday]          1  \n2       set an alarm for [time : two hours from now]          1  \n3                                              quiet          1  \n4                                         olly quiet          1  ",
      "text/html": "<div>\n<style scoped>\n    .dataframe tbody tr th:only-of-type {\n        vertical-align: middle;\n    }\n\n    .dataframe tbody tr th {\n        vertical-align: top;\n    }\n\n    .dataframe thead th {\n        text-align: right;\n    }\n</style>\n<table border=\"1\" class=\"dataframe\">\n  <thead>\n    <tr style=\"text-align: right;\">\n      <th></th>\n      <th>id</th>\n      <th>locale</th>\n      <th>partition</th>\n      <th>scenario</th>\n      <th>intent</th>\n      <th>utt</th>\n      <th>annot_utt</th>\n      <th>worker_id</th>\n    </tr>\n  </thead>\n  <tbody>\n    <tr>\n      <th>0</th>\n      <td>0</td>\n      <td>en-US</td>\n      <td>test</td>\n      <td>alarm</td>\n      <td>alarm_set</td>\n      <td>wake me up at five am this week</td>\n      <td>wake me up at [time : five am] [date : this week]</td>\n      <td>1</td>\n    </tr>\n    <tr>\n      <th>1</th>\n      <td>1</td>\n      <td>en-US</td>\n      <td>train</td>\n      <td>alarm</td>\n      <td>alarm_set</td>\n      <td>wake me up at nine am on friday</td>\n      <td>wake me up at [time : nine am] on [date : friday]</td>\n      <td>1</td>\n    </tr>\n    <tr>\n      <th>2</th>\n      <td>2</td>\n      <td>en-US</td>\n      <td>train</td>\n      <td>alarm</td>\n      <td>alarm_set</td>\n      <td>set an alarm for two hours from now</td>\n      <td>set an alarm for [time : two hours from now]</td>\n      <td>1</td>\n    </tr>\n    <tr>\n      <th>3</th>\n      <td>3</td>\n      <td>en-US</td>\n      <td>test</td>\n      <td>audio</td>\n      <td>audio_volume_mute</td>\n      <td>quiet</td>\n      <td>quiet</td>\n      <td>1</td>\n    </tr>\n    <tr>\n      <th>4</th>\n      <td>4</td>\n      <td>en-US</td>\n      <td>train</td>\n      <td>audio</td>\n      <td>audio_volume_mute</td>\n      <td>olly quiet</td>\n      <td>olly quiet</td>\n      <td>1</td>\n    </tr>\n  </tbody>\n</table>\n</div>"
     },
     "execution_count": 36,
     "metadata": {},
     "output_type": "execute_result"
    }
   ],
   "source": [
    "english_file.head()"
   ],
   "metadata": {
    "collapsed": false,
    "ExecuteTime": {
     "end_time": "2023-09-25T12:53:51.770577500Z",
     "start_time": "2023-09-25T12:53:51.724331900Z"
    }
   },
   "id": "d198108088998779"
  },
  {
   "cell_type": "code",
   "execution_count": 34,
   "outputs": [
    {
     "data": {
      "text/plain": "          id                                  utt  \\\n0          0      wake me up at five am this week   \n1          1      wake me up at nine am on friday   \n2          2  set an alarm for two hours from now   \n3          3                                quiet   \n4          4                           olly quiet   \n...      ...                                  ...   \n16516  17176                     do i have emails   \n16517  17177                  what emails are new   \n16518  17178       do i have new emails from john   \n16519  17179            has john sent me an email   \n16520  17180                check email from john   \n\n                                               annot_utt  \n0      wake me up at [time : five am] [date : this week]  \n1      wake me up at [time : nine am] on [date : friday]  \n2           set an alarm for [time : two hours from now]  \n3                                                  quiet  \n4                                             olly quiet  \n...                                                  ...  \n16516                                   do i have emails  \n16517                                what emails are new  \n16518          do i have new emails from [person : john]  \n16519               has [person : john] sent me an email  \n16520                   check email from [person : john]  \n\n[16521 rows x 3 columns]",
      "text/html": "<div>\n<style scoped>\n    .dataframe tbody tr th:only-of-type {\n        vertical-align: middle;\n    }\n\n    .dataframe tbody tr th {\n        vertical-align: top;\n    }\n\n    .dataframe thead th {\n        text-align: right;\n    }\n</style>\n<table border=\"1\" class=\"dataframe\">\n  <thead>\n    <tr style=\"text-align: right;\">\n      <th></th>\n      <th>id</th>\n      <th>utt</th>\n      <th>annot_utt</th>\n    </tr>\n  </thead>\n  <tbody>\n    <tr>\n      <th>0</th>\n      <td>0</td>\n      <td>wake me up at five am this week</td>\n      <td>wake me up at [time : five am] [date : this week]</td>\n    </tr>\n    <tr>\n      <th>1</th>\n      <td>1</td>\n      <td>wake me up at nine am on friday</td>\n      <td>wake me up at [time : nine am] on [date : friday]</td>\n    </tr>\n    <tr>\n      <th>2</th>\n      <td>2</td>\n      <td>set an alarm for two hours from now</td>\n      <td>set an alarm for [time : two hours from now]</td>\n    </tr>\n    <tr>\n      <th>3</th>\n      <td>3</td>\n      <td>quiet</td>\n      <td>quiet</td>\n    </tr>\n    <tr>\n      <th>4</th>\n      <td>4</td>\n      <td>olly quiet</td>\n      <td>olly quiet</td>\n    </tr>\n    <tr>\n      <th>...</th>\n      <td>...</td>\n      <td>...</td>\n      <td>...</td>\n    </tr>\n    <tr>\n      <th>16516</th>\n      <td>17176</td>\n      <td>do i have emails</td>\n      <td>do i have emails</td>\n    </tr>\n    <tr>\n      <th>16517</th>\n      <td>17177</td>\n      <td>what emails are new</td>\n      <td>what emails are new</td>\n    </tr>\n    <tr>\n      <th>16518</th>\n      <td>17178</td>\n      <td>do i have new emails from john</td>\n      <td>do i have new emails from [person : john]</td>\n    </tr>\n    <tr>\n      <th>16519</th>\n      <td>17179</td>\n      <td>has john sent me an email</td>\n      <td>has [person : john] sent me an email</td>\n    </tr>\n    <tr>\n      <th>16520</th>\n      <td>17180</td>\n      <td>check email from john</td>\n      <td>check email from [person : john]</td>\n    </tr>\n  </tbody>\n</table>\n<p>16521 rows × 3 columns</p>\n</div>"
     },
     "execution_count": 34,
     "metadata": {},
     "output_type": "execute_result"
    }
   ],
   "source": [
    "needed_columns = [\"id\",\"utt\",\"annot_utt\"]\n",
    "base_file = english_file[needed_columns]\n",
    "base_file"
   ],
   "metadata": {
    "collapsed": false,
    "ExecuteTime": {
     "end_time": "2023-09-25T18:32:28.824322800Z",
     "start_time": "2023-09-25T18:32:28.787164100Z"
    }
   },
   "id": "7c3860f5a592d37e"
  },
  {
   "cell_type": "code",
   "execution_count": 33,
   "outputs": [
    {
     "ename": "NotImplementedError",
     "evalue": "",
     "output_type": "error",
     "traceback": [
      "\u001B[1;31m---------------------------------------------------------------------------\u001B[0m",
      "\u001B[1;31mNotImplementedError\u001B[0m                       Traceback (most recent call last)",
      "Cell \u001B[1;32mIn[33], line 12\u001B[0m\n\u001B[0;32m      9\u001B[0m         df \u001B[38;5;241m=\u001B[39m  pd\u001B[38;5;241m.\u001B[39mconcat([df,record], ignore_index\u001B[38;5;241m=\u001B[39m\u001B[38;5;28;01mTrue\u001B[39;00m)\n\u001B[0;32m     10\u001B[0m     \u001B[38;5;28;01mreturn\u001B[39;00m df\n\u001B[1;32m---> 12\u001B[0m \u001B[43mcreate_dataframe\u001B[49m\u001B[43m(\u001B[49m\u001B[43menglish_file\u001B[49m\u001B[43m)\u001B[49m\n",
      "Cell \u001B[1;32mIn[33], line 7\u001B[0m, in \u001B[0;36mcreate_dataframe\u001B[1;34m(data)\u001B[0m\n\u001B[0;32m      4\u001B[0m \u001B[38;5;66;03m# Looping through each record\u001B[39;00m\n\u001B[0;32m      5\u001B[0m \u001B[38;5;28;01mfor\u001B[39;00m d \u001B[38;5;129;01min\u001B[39;00m data:\n\u001B[0;32m      6\u001B[0m \u001B[38;5;66;03m# Normalize the column levels\u001B[39;00m\n\u001B[1;32m----> 7\u001B[0m     record \u001B[38;5;241m=\u001B[39m \u001B[43mpd\u001B[49m\u001B[38;5;241;43m.\u001B[39;49m\u001B[43mjson_normalize\u001B[49m\u001B[43m(\u001B[49m\u001B[43md\u001B[49m\u001B[43m)\u001B[49m\n\u001B[0;32m      8\u001B[0m \u001B[38;5;66;03m# Append it to the dataframe\u001B[39;00m\n\u001B[0;32m      9\u001B[0m     df \u001B[38;5;241m=\u001B[39m  pd\u001B[38;5;241m.\u001B[39mconcat([df,record], ignore_index\u001B[38;5;241m=\u001B[39m\u001B[38;5;28;01mTrue\u001B[39;00m)\n",
      "File \u001B[1;32m~\\OneDrive - Strathmore University\\Documents\\3.2\\Computer Graphics\\Project\\Venvs\\lib\\site-packages\\pandas\\io\\json\\_normalize.py:445\u001B[0m, in \u001B[0;36mjson_normalize\u001B[1;34m(data, record_path, meta, meta_prefix, record_prefix, errors, sep, max_level)\u001B[0m\n\u001B[0;32m    443\u001B[0m     data \u001B[38;5;241m=\u001B[39m \u001B[38;5;28mlist\u001B[39m(data)\n\u001B[0;32m    444\u001B[0m \u001B[38;5;28;01melse\u001B[39;00m:\n\u001B[1;32m--> 445\u001B[0m     \u001B[38;5;28;01mraise\u001B[39;00m \u001B[38;5;167;01mNotImplementedError\u001B[39;00m\n\u001B[0;32m    447\u001B[0m \u001B[38;5;66;03m# check to see if a simple recursive function is possible to\u001B[39;00m\n\u001B[0;32m    448\u001B[0m \u001B[38;5;66;03m# improve performance (see #15621) but only for cases such\u001B[39;00m\n\u001B[0;32m    449\u001B[0m \u001B[38;5;66;03m# as pd.Dataframe(data) or pd.Dataframe(data, sep)\u001B[39;00m\n\u001B[0;32m    450\u001B[0m \u001B[38;5;28;01mif\u001B[39;00m (\n\u001B[0;32m    451\u001B[0m     record_path \u001B[38;5;129;01mis\u001B[39;00m \u001B[38;5;28;01mNone\u001B[39;00m\n\u001B[0;32m    452\u001B[0m     \u001B[38;5;129;01mand\u001B[39;00m meta \u001B[38;5;129;01mis\u001B[39;00m \u001B[38;5;28;01mNone\u001B[39;00m\n\u001B[1;32m   (...)\u001B[0m\n\u001B[0;32m    455\u001B[0m     \u001B[38;5;129;01mand\u001B[39;00m max_level \u001B[38;5;129;01mis\u001B[39;00m \u001B[38;5;28;01mNone\u001B[39;00m\n\u001B[0;32m    456\u001B[0m ):\n",
      "\u001B[1;31mNotImplementedError\u001B[0m: "
     ]
    }
   ],
   "source": [
    "def create_dataframe(data: list) -> pd.DataFrame:\n",
    "    # Declare an empty dataframe to append records\n",
    "    df = pd.DataFrame()\n",
    "    # Looping through each record\n",
    "    for d in data:\n",
    "    # Normalize the column levels\n",
    "        record = pd.json_normalize(d)\n",
    "    # Append it to the dataframe\n",
    "        df =  pd.concat([df,record], ignore_index=True)\n",
    "    return df\n",
    "\n",
    "create_dataframe(english_file)"
   ],
   "metadata": {
    "collapsed": false,
    "ExecuteTime": {
     "end_time": "2023-09-25T12:51:45.644780600Z",
     "start_time": "2023-09-25T12:51:45.541139500Z"
    }
   },
   "id": "4aa69e98c8727b56"
  },
  {
   "cell_type": "code",
   "execution_count": 26,
   "outputs": [
    {
     "ename": "Exception",
     "evalue": "Reading en-US.jsonl file encountered an error",
     "output_type": "error",
     "traceback": [
      "\u001B[1;31m---------------------------------------------------------------------------\u001B[0m",
      "\u001B[1;31mJSONDecodeError\u001B[0m                           Traceback (most recent call last)",
      "Cell \u001B[1;32mIn[26], line 6\u001B[0m, in \u001B[0;36mread_json\u001B[1;34m(filename)\u001B[0m\n\u001B[0;32m      5\u001B[0m     \u001B[38;5;28;01mwith\u001B[39;00m \u001B[38;5;28mopen\u001B[39m(filename, \u001B[38;5;124m\"\u001B[39m\u001B[38;5;124mr\u001B[39m\u001B[38;5;124m\"\u001B[39m) \u001B[38;5;28;01mas\u001B[39;00m f:\n\u001B[1;32m----> 6\u001B[0m         data \u001B[38;5;241m=\u001B[39m \u001B[43mjson\u001B[49m\u001B[38;5;241;43m.\u001B[39;49m\u001B[43mloads\u001B[49m\u001B[43m(\u001B[49m\u001B[43mf\u001B[49m\u001B[38;5;241;43m.\u001B[39;49m\u001B[43mread\u001B[49m\u001B[43m(\u001B[49m\u001B[43m)\u001B[49m\u001B[43m)\u001B[49m\n\u001B[0;32m      7\u001B[0m \u001B[38;5;28;01mexcept\u001B[39;00m:\n",
      "File \u001B[1;32m~\\AppData\\Local\\Programs\\Python\\Python39\\lib\\json\\__init__.py:346\u001B[0m, in \u001B[0;36mloads\u001B[1;34m(s, cls, object_hook, parse_float, parse_int, parse_constant, object_pairs_hook, **kw)\u001B[0m\n\u001B[0;32m    343\u001B[0m \u001B[38;5;28;01mif\u001B[39;00m (\u001B[38;5;28mcls\u001B[39m \u001B[38;5;129;01mis\u001B[39;00m \u001B[38;5;28;01mNone\u001B[39;00m \u001B[38;5;129;01mand\u001B[39;00m object_hook \u001B[38;5;129;01mis\u001B[39;00m \u001B[38;5;28;01mNone\u001B[39;00m \u001B[38;5;129;01mand\u001B[39;00m\n\u001B[0;32m    344\u001B[0m         parse_int \u001B[38;5;129;01mis\u001B[39;00m \u001B[38;5;28;01mNone\u001B[39;00m \u001B[38;5;129;01mand\u001B[39;00m parse_float \u001B[38;5;129;01mis\u001B[39;00m \u001B[38;5;28;01mNone\u001B[39;00m \u001B[38;5;129;01mand\u001B[39;00m\n\u001B[0;32m    345\u001B[0m         parse_constant \u001B[38;5;129;01mis\u001B[39;00m \u001B[38;5;28;01mNone\u001B[39;00m \u001B[38;5;129;01mand\u001B[39;00m object_pairs_hook \u001B[38;5;129;01mis\u001B[39;00m \u001B[38;5;28;01mNone\u001B[39;00m \u001B[38;5;129;01mand\u001B[39;00m \u001B[38;5;129;01mnot\u001B[39;00m kw):\n\u001B[1;32m--> 346\u001B[0m     \u001B[38;5;28;01mreturn\u001B[39;00m \u001B[43m_default_decoder\u001B[49m\u001B[38;5;241;43m.\u001B[39;49m\u001B[43mdecode\u001B[49m\u001B[43m(\u001B[49m\u001B[43ms\u001B[49m\u001B[43m)\u001B[49m\n\u001B[0;32m    347\u001B[0m \u001B[38;5;28;01mif\u001B[39;00m \u001B[38;5;28mcls\u001B[39m \u001B[38;5;129;01mis\u001B[39;00m \u001B[38;5;28;01mNone\u001B[39;00m:\n",
      "File \u001B[1;32m~\\AppData\\Local\\Programs\\Python\\Python39\\lib\\json\\decoder.py:340\u001B[0m, in \u001B[0;36mJSONDecoder.decode\u001B[1;34m(self, s, _w)\u001B[0m\n\u001B[0;32m    339\u001B[0m \u001B[38;5;28;01mif\u001B[39;00m end \u001B[38;5;241m!=\u001B[39m \u001B[38;5;28mlen\u001B[39m(s):\n\u001B[1;32m--> 340\u001B[0m     \u001B[38;5;28;01mraise\u001B[39;00m JSONDecodeError(\u001B[38;5;124m\"\u001B[39m\u001B[38;5;124mExtra data\u001B[39m\u001B[38;5;124m\"\u001B[39m, s, end)\n\u001B[0;32m    341\u001B[0m \u001B[38;5;28;01mreturn\u001B[39;00m obj\n",
      "\u001B[1;31mJSONDecodeError\u001B[0m: Extra data: line 2 column 1 (char 222)",
      "\nDuring handling of the above exception, another exception occurred:\n",
      "\u001B[1;31mException\u001B[0m                                 Traceback (most recent call last)",
      "Cell \u001B[1;32mIn[26], line 21\u001B[0m\n\u001B[0;32m     19\u001B[0m     \u001B[38;5;28;01mreturn\u001B[39;00m dataframe\n\u001B[0;32m     20\u001B[0m \u001B[38;5;66;03m# Read the JSON file as python dictionary\u001B[39;00m\n\u001B[1;32m---> 21\u001B[0m data \u001B[38;5;241m=\u001B[39m \u001B[43mread_json\u001B[49m\u001B[43m(\u001B[49m\u001B[43mfilename\u001B[49m\u001B[38;5;241;43m=\u001B[39;49m\u001B[43mpath\u001B[49m\u001B[43m)\u001B[49m\n\u001B[0;32m     22\u001B[0m \u001B[38;5;66;03m#*data=data[insert parameter according to your json data]*\u001B[39;00m\n\u001B[0;32m     23\u001B[0m dataframe \u001B[38;5;241m=\u001B[39m create_dataframe(data\u001B[38;5;241m=\u001B[39mdata[\u001B[38;5;124m'\u001B[39m\u001B[38;5;124mdata\u001B[39m\u001B[38;5;124m'\u001B[39m])\n",
      "Cell \u001B[1;32mIn[26], line 8\u001B[0m, in \u001B[0;36mread_json\u001B[1;34m(filename)\u001B[0m\n\u001B[0;32m      6\u001B[0m         data \u001B[38;5;241m=\u001B[39m json\u001B[38;5;241m.\u001B[39mloads(f\u001B[38;5;241m.\u001B[39mread())\n\u001B[0;32m      7\u001B[0m \u001B[38;5;28;01mexcept\u001B[39;00m:\n\u001B[1;32m----> 8\u001B[0m     \u001B[38;5;28;01mraise\u001B[39;00m \u001B[38;5;167;01mException\u001B[39;00m(\u001B[38;5;124mf\u001B[39m\u001B[38;5;124m\"\u001B[39m\u001B[38;5;124mReading \u001B[39m\u001B[38;5;132;01m{\u001B[39;00mfilename\u001B[38;5;132;01m}\u001B[39;00m\u001B[38;5;124m file encountered an error\u001B[39m\u001B[38;5;124m\"\u001B[39m)\n\u001B[0;32m      9\u001B[0m \u001B[38;5;28;01mreturn\u001B[39;00m data\n",
      "\u001B[1;31mException\u001B[0m: Reading en-US.jsonl file encountered an error"
     ]
    }
   ],
   "source": [
    "import json\n",
    "path = 'en-US.jsonl'\n",
    "def read_json(filename: str) -> dict:\n",
    "    try:\n",
    "        with open(filename, \"r\") as f:\n",
    "            data = json.loads(f.read())\n",
    "    except:\n",
    "        raise Exception(f\"Reading {filename} file encountered an error\")\n",
    "    return data\n",
    "def create_dataframe(data: list) -> pd.DataFrame:\n",
    "    # Declare an empty dataframe to append records\n",
    "    dataframe = pd.DataFrame()\n",
    "    # Looping through each record\n",
    "    for d in data:\n",
    "    # Normalize the column levels\n",
    "        record = pd.json_normalize(d)\n",
    "    # Append it to the dataframe\n",
    "        dataframe =  pd.concat([dataframe,record], ignore_index=True)\n",
    "    return dataframe\n",
    "# Read the JSON file as python dictionary\n",
    "data = read_json(filename=path)\n",
    "#*data=data[insert parameter according to your json data]*\n",
    "dataframe = create_dataframe(data=data['data'])\n",
    "# Renaming columns of the dataframe\n",
    "col = {\"column1\":\"column1\",\"column2.key1\":\"key1\",\"column2.key2\":\"key2\"}\n",
    "df = dataframe.rename(columns = col)[[*col.values()]]\n",
    "df"
   ],
   "metadata": {
    "collapsed": false,
    "ExecuteTime": {
     "end_time": "2023-09-25T12:49:26.521170Z",
     "start_time": "2023-09-25T12:49:26.336907Z"
    }
   },
   "id": "259df28e55cb21a6"
  },
  {
   "cell_type": "code",
   "execution_count": 1,
   "outputs": [
    {
     "data": {
      "text/plain": "11"
     },
     "execution_count": 1,
     "metadata": {},
     "output_type": "execute_result"
    }
   ],
   "source": [
    "len(\"en-US.jsonl\")"
   ],
   "metadata": {
    "collapsed": false,
    "ExecuteTime": {
     "end_time": "2023-09-25T17:54:34.335350800Z",
     "start_time": "2023-09-25T17:54:34.313849800Z"
    }
   },
   "id": "223969c132a1abe0"
  },
  {
   "cell_type": "code",
   "execution_count": 9,
   "outputs": [
    {
     "data": {
      "text/plain": "'en'"
     },
     "execution_count": 9,
     "metadata": {},
     "output_type": "execute_result"
    }
   ],
   "source": [
    "rt = \"en-US.jsonl\"\n",
    "rt[-11:-9]"
   ],
   "metadata": {
    "collapsed": false,
    "ExecuteTime": {
     "end_time": "2023-09-25T17:56:08.465101600Z",
     "start_time": "2023-09-25T17:56:08.445503600Z"
    }
   },
   "id": "9453242d7566d779"
  },
  {
   "cell_type": "code",
   "execution_count": 22,
   "outputs": [
    {
     "data": {
      "text/plain": "['af-ZA.jsonl',\n 'am-ET.jsonl',\n 'ar-SA.jsonl',\n 'az-AZ.jsonl',\n 'bn-BD.jsonl',\n 'ca-ES.jsonl',\n 'cy-GB.jsonl',\n 'da-DK.jsonl',\n 'de-DE.jsonl',\n 'el-GR.jsonl',\n 'en-US.jsonl',\n 'es-ES.jsonl',\n 'fa-IR.jsonl',\n 'fi-FI.jsonl',\n 'fr-FR.jsonl',\n 'he-IL.jsonl',\n 'hi-IN.jsonl',\n 'hu-HU.jsonl',\n 'hy-AM.jsonl',\n 'id-ID.jsonl',\n 'is-IS.jsonl',\n 'it-IT.jsonl',\n 'ja-JP.jsonl',\n 'jv-ID.jsonl',\n 'ka-GE.jsonl',\n 'km-KH.jsonl',\n 'kn-IN.jsonl',\n 'ko-KR.jsonl',\n 'lv-LV.jsonl',\n 'ml-IN.jsonl',\n 'mn-MN.jsonl',\n 'ms-MY.jsonl',\n 'my-MM.jsonl',\n 'nb-NO.jsonl',\n 'nl-NL.jsonl',\n 'pl-PL.jsonl',\n 'pt-PT.jsonl',\n 'ro-RO.jsonl',\n 'ru-RU.jsonl',\n 'sl-SL.jsonl',\n 'sq-AL.jsonl',\n 'sv-SE.jsonl',\n 'sw-KE.jsonl',\n 'ta-IN.jsonl',\n 'te-IN.jsonl',\n 'th-TH.jsonl',\n 'tl-PH.jsonl',\n 'tr-TR.jsonl',\n 'ur-PK.jsonl',\n 'vi-VN.jsonl',\n 'zh-CN.jsonl',\n 'zh-TW.jsonl']"
     },
     "execution_count": 22,
     "metadata": {},
     "output_type": "execute_result"
    }
   ],
   "source": [
    "def list_of_valid_files(directory_path: str) -> list:\n",
    "    \"\"\"\n",
    "    This function returns a list of valid jsonl files in the directory path\n",
    "    :param directory_path: \n",
    "    :return: \n",
    "    \"\"\"\n",
    "    import os \n",
    "    # Declare an empty list to store the file names\n",
    "    files = []\n",
    "    # Looping through each file in the path\n",
    "    for file in os.listdir(directory_path):\n",
    "        # Checking if the file is a jsonl file \n",
    "        #print(file)\n",
    "        if file[-5:] == \"jsonl\":\n",
    "            # Appending the file name to the list\n",
    "            files.append(file)\n",
    "    return files\n",
    "\n",
    "list_of_valid_files('data')"
   ],
   "metadata": {
    "collapsed": false,
    "ExecuteTime": {
     "end_time": "2023-09-25T18:10:58.692128Z",
     "start_time": "2023-09-25T18:10:58.666223Z"
    }
   },
   "id": "853b784943cfcae5"
  },
  {
   "cell_type": "code",
   "execution_count": 53,
   "outputs": [],
   "source": [
    "def full_path_generator(directory_path: str, filepath: str) -> str:\n",
    "    \"\"\"\n",
    "    This function returns a str of the full path of the files\n",
    "    :param directory_path:\n",
    "    :return:\n",
    "    \"\"\"\n",
    "    full_path = os.path.join(directory_path, filepath)\n",
    "    # Appending the full path to the list\n",
    "    return full_path\n",
    "   "
   ],
   "metadata": {
    "collapsed": false,
    "ExecuteTime": {
     "end_time": "2023-09-25T19:31:25.641173500Z",
     "start_time": "2023-09-25T19:31:25.625635100Z"
    }
   },
   "id": "dcd4ef74ebccb2f7"
  },
  {
   "cell_type": "code",
   "execution_count": 36,
   "outputs": [],
   "source": [
    "from pandas import DataFrame\n",
    "def dataframe_gen_from_jsonl(file_path: str) -> DataFrame:\n",
    "    dff = pd.read_json(file_path, lines=True)\n",
    "    return dff\n",
    "\n",
    "    "
   ],
   "metadata": {
    "collapsed": false,
    "ExecuteTime": {
     "end_time": "2023-09-25T18:33:29.890901400Z",
     "start_time": "2023-09-25T18:33:29.874868700Z"
    }
   },
   "id": "9ab63e11b791adfa"
  },
  {
   "cell_type": "code",
   "execution_count": 45,
   "outputs": [
    {
     "data": {
      "text/plain": "'C:\\\\Users\\\\wachi\\\\AppData\\\\Local\\\\Temp\\\\tmpveo9abe7\\\\tmpk51urgog.xlsx'"
     },
     "execution_count": 45,
     "metadata": {},
     "output_type": "execute_result"
    }
   ],
   "source": [
    "import tempfile\n",
    "import openpyxl\n",
    "import os\n",
    "from tempfile import NamedTemporaryFile\n",
    "def excel_files_gen(full_paths: list, input_directory_path: str,output_directory_path: str) -> list:\n",
    "    \"\"\"\n",
    "    This function returns a list of excel files generated from the jsonl files\n",
    "    :param full_paths: \n",
    "    :param directory_path: \n",
    "    :return: \n",
    "    \"\"\"\n",
    "    # Declare an empty list to store the excel file names\n",
    "    excel_files = []\n",
    "    # Looping through each file in the list of full paths\n",
    "    files = list_of_valid_files(directory_path=directory_path)\n",
    "    #remove en-US.jsonl from the list of files\n",
    "    files.remove(\"en-US.jsonl\")\n",
    "    for file in files:\n",
    "        langauge_code = file[-11:-9]\n",
    "        df = per_language_pivot_en(directory_path=directory_path, filepath=file)\n",
    "        # Output the dataframe to excel to specified output directory\n",
    "        #the output name format is \n",
    "        output_path = os.path.join(output_directory_path, f\"{langauge_code}.xlsx\")\n",
    "        \n",
    "        \n",
    "    \n",
    "   "
   ],
   "metadata": {
    "collapsed": false,
    "ExecuteTime": {
     "start_time": "2023-09-25T18:55:07.472980400Z"
    }
   },
   "id": "f3bf8633ad3848b0"
  },
  {
   "cell_type": "code",
   "execution_count": 54,
   "outputs": [
    {
     "data": {
      "text/plain": "          id                            en-US_utt  \\\n0          0      wake me up at five am this week   \n1          1      wake me up at nine am on friday   \n2          2  set an alarm for two hours from now   \n3          3                                quiet   \n4          4                           olly quiet   \n...      ...                                  ...   \n16516  17176                     do i have emails   \n16517  17177                  what emails are new   \n16518  17178       do i have new emails from john   \n16519  17179            has john sent me an email   \n16520  17180                check email from john   \n\n                                             en-US_annot  \n0      wake me up at [time : five am] [date : this week]  \n1      wake me up at [time : nine am] on [date : friday]  \n2           set an alarm for [time : two hours from now]  \n3                                                  quiet  \n4                                             olly quiet  \n...                                                  ...  \n16516                                   do i have emails  \n16517                                what emails are new  \n16518          do i have new emails from [person : john]  \n16519               has [person : john] sent me an email  \n16520                   check email from [person : john]  \n\n[16521 rows x 3 columns]",
      "text/html": "<div>\n<style scoped>\n    .dataframe tbody tr th:only-of-type {\n        vertical-align: middle;\n    }\n\n    .dataframe tbody tr th {\n        vertical-align: top;\n    }\n\n    .dataframe thead th {\n        text-align: right;\n    }\n</style>\n<table border=\"1\" class=\"dataframe\">\n  <thead>\n    <tr style=\"text-align: right;\">\n      <th></th>\n      <th>id</th>\n      <th>en-US_utt</th>\n      <th>en-US_annot</th>\n    </tr>\n  </thead>\n  <tbody>\n    <tr>\n      <th>0</th>\n      <td>0</td>\n      <td>wake me up at five am this week</td>\n      <td>wake me up at [time : five am] [date : this week]</td>\n    </tr>\n    <tr>\n      <th>1</th>\n      <td>1</td>\n      <td>wake me up at nine am on friday</td>\n      <td>wake me up at [time : nine am] on [date : friday]</td>\n    </tr>\n    <tr>\n      <th>2</th>\n      <td>2</td>\n      <td>set an alarm for two hours from now</td>\n      <td>set an alarm for [time : two hours from now]</td>\n    </tr>\n    <tr>\n      <th>3</th>\n      <td>3</td>\n      <td>quiet</td>\n      <td>quiet</td>\n    </tr>\n    <tr>\n      <th>4</th>\n      <td>4</td>\n      <td>olly quiet</td>\n      <td>olly quiet</td>\n    </tr>\n    <tr>\n      <th>...</th>\n      <td>...</td>\n      <td>...</td>\n      <td>...</td>\n    </tr>\n    <tr>\n      <th>16516</th>\n      <td>17176</td>\n      <td>do i have emails</td>\n      <td>do i have emails</td>\n    </tr>\n    <tr>\n      <th>16517</th>\n      <td>17177</td>\n      <td>what emails are new</td>\n      <td>what emails are new</td>\n    </tr>\n    <tr>\n      <th>16518</th>\n      <td>17178</td>\n      <td>do i have new emails from john</td>\n      <td>do i have new emails from [person : john]</td>\n    </tr>\n    <tr>\n      <th>16519</th>\n      <td>17179</td>\n      <td>has john sent me an email</td>\n      <td>has [person : john] sent me an email</td>\n    </tr>\n    <tr>\n      <th>16520</th>\n      <td>17180</td>\n      <td>check email from john</td>\n      <td>check email from [person : john]</td>\n    </tr>\n  </tbody>\n</table>\n<p>16521 rows × 3 columns</p>\n</div>"
     },
     "execution_count": 54,
     "metadata": {},
     "output_type": "execute_result"
    }
   ],
   "source": [
    "def en_base_df(directory_path: str) -> DataFrame:\n",
    "    \"\"\"\n",
    "    This function returns the base dataframe for the english language\n",
    "    :return: \n",
    "    \"\"\"\n",
    "    # Getting the list of valid files\n",
    "    files = list_of_valid_files(directory_path=directory_path)\n",
    "    # Getting the full paths of the files\n",
    "    # Checking for en-US.jsonl file in files\n",
    "    if \"en-US.jsonl\" in files:\n",
    "        # Getting the full path of the en-US.jsonl file\n",
    "        en_us_path = full_path_generator(directory_path=directory_path, filepath=\"en-US.jsonl\")\n",
    "        # Generating the dataframe\n",
    "        en_us_df = dataframe_gen_from_jsonl(file_path=en_us_path)\n",
    "        # Renaming the columns\n",
    "        en_us_df = en_us_df.rename(columns={\"id\": \"id\", \"utt\": \"en-US_utt\", \"annot_utt\": \"en-US_annot\"})\n",
    "        en_us_df = en_us_df[[\"id\", \"en-US_utt\", \"en-US_annot\"]]\n",
    "        # Returning the dataframe\n",
    "        return en_us_df\n",
    "    else:\n",
    "        raise Exception(\"en-US.jsonl file is not present in the directory path\")\n",
    "en_base_df(directory_path=\"data\")"
   ],
   "metadata": {
    "collapsed": false,
    "ExecuteTime": {
     "end_time": "2023-09-25T19:31:58.272115500Z",
     "start_time": "2023-09-25T19:31:57.695441100Z"
    }
   },
   "id": "5478e1363f1de973"
  },
  {
   "cell_type": "code",
   "execution_count": 38,
   "outputs": [
    {
     "data": {
      "text/plain": "          id                                  utt  \\\n0          0      wake me up at five am this week   \n1          1      wake me up at nine am on friday   \n2          2  set an alarm for two hours from now   \n3          3                                quiet   \n4          4                           olly quiet   \n...      ...                                  ...   \n16516  17176                     do i have emails   \n16517  17177                  what emails are new   \n16518  17178       do i have new emails from john   \n16519  17179            has john sent me an email   \n16520  17180                check email from john   \n\n                                               annot_utt  \\\n0      wake me up at [time : five am] [date : this week]   \n1      wake me up at [time : nine am] on [date : friday]   \n2           set an alarm for [time : two hours from now]   \n3                                                  quiet   \n4                                             olly quiet   \n...                                                  ...   \n16516                                   do i have emails   \n16517                                what emails are new   \n16518          do i have new emails from [person : john]   \n16519               has [person : john] sent me an email   \n16520                   check email from [person : john]   \n\n                                        af_utt  \\\n0         maak my wakker om vyf v. m. die week   \n1      maak my wakker nege-uur v. m. op vrydag   \n2        stel 'n alarm vir twee ure van nou af   \n3                                         stil   \n4                              janneman stilte   \n...                                        ...   \n16516                           het ek e-posse   \n16517                   watter e-posse is nuut   \n16518          het ek nuwe eposse vanaf pieter   \n16519           het john vir my ŉ epos gestuur   \n16520                  kyk na epos van jeff af   \n\n                                                af_annot  \n0      maak my wakker om [time : vyf v. m.] [date : d...  \n1      maak my wakker [time : nege-uur v. m.] op [dat...  \n2         stel 'n alarm vir [time : twee ure van nou af]  \n3                                                   stil  \n4                                        janneman stilte  \n...                                                  ...  \n16516                                     het ek e-posse  \n16517                             watter e-posse is nuut  \n16518         het ek nuwe eposse vanaf [person : pieter]  \n16519          het [person : john] vir my ŉ epos gestuur  \n16520                 kyk na epos van [person : jeff] af  \n\n[16521 rows x 5 columns]",
      "text/html": "<div>\n<style scoped>\n    .dataframe tbody tr th:only-of-type {\n        vertical-align: middle;\n    }\n\n    .dataframe tbody tr th {\n        vertical-align: top;\n    }\n\n    .dataframe thead th {\n        text-align: right;\n    }\n</style>\n<table border=\"1\" class=\"dataframe\">\n  <thead>\n    <tr style=\"text-align: right;\">\n      <th></th>\n      <th>id</th>\n      <th>utt</th>\n      <th>annot_utt</th>\n      <th>af_utt</th>\n      <th>af_annot</th>\n    </tr>\n  </thead>\n  <tbody>\n    <tr>\n      <th>0</th>\n      <td>0</td>\n      <td>wake me up at five am this week</td>\n      <td>wake me up at [time : five am] [date : this week]</td>\n      <td>maak my wakker om vyf v. m. die week</td>\n      <td>maak my wakker om [time : vyf v. m.] [date : d...</td>\n    </tr>\n    <tr>\n      <th>1</th>\n      <td>1</td>\n      <td>wake me up at nine am on friday</td>\n      <td>wake me up at [time : nine am] on [date : friday]</td>\n      <td>maak my wakker nege-uur v. m. op vrydag</td>\n      <td>maak my wakker [time : nege-uur v. m.] op [dat...</td>\n    </tr>\n    <tr>\n      <th>2</th>\n      <td>2</td>\n      <td>set an alarm for two hours from now</td>\n      <td>set an alarm for [time : two hours from now]</td>\n      <td>stel 'n alarm vir twee ure van nou af</td>\n      <td>stel 'n alarm vir [time : twee ure van nou af]</td>\n    </tr>\n    <tr>\n      <th>3</th>\n      <td>3</td>\n      <td>quiet</td>\n      <td>quiet</td>\n      <td>stil</td>\n      <td>stil</td>\n    </tr>\n    <tr>\n      <th>4</th>\n      <td>4</td>\n      <td>olly quiet</td>\n      <td>olly quiet</td>\n      <td>janneman stilte</td>\n      <td>janneman stilte</td>\n    </tr>\n    <tr>\n      <th>...</th>\n      <td>...</td>\n      <td>...</td>\n      <td>...</td>\n      <td>...</td>\n      <td>...</td>\n    </tr>\n    <tr>\n      <th>16516</th>\n      <td>17176</td>\n      <td>do i have emails</td>\n      <td>do i have emails</td>\n      <td>het ek e-posse</td>\n      <td>het ek e-posse</td>\n    </tr>\n    <tr>\n      <th>16517</th>\n      <td>17177</td>\n      <td>what emails are new</td>\n      <td>what emails are new</td>\n      <td>watter e-posse is nuut</td>\n      <td>watter e-posse is nuut</td>\n    </tr>\n    <tr>\n      <th>16518</th>\n      <td>17178</td>\n      <td>do i have new emails from john</td>\n      <td>do i have new emails from [person : john]</td>\n      <td>het ek nuwe eposse vanaf pieter</td>\n      <td>het ek nuwe eposse vanaf [person : pieter]</td>\n    </tr>\n    <tr>\n      <th>16519</th>\n      <td>17179</td>\n      <td>has john sent me an email</td>\n      <td>has [person : john] sent me an email</td>\n      <td>het john vir my ŉ epos gestuur</td>\n      <td>het [person : john] vir my ŉ epos gestuur</td>\n    </tr>\n    <tr>\n      <th>16520</th>\n      <td>17180</td>\n      <td>check email from john</td>\n      <td>check email from [person : john]</td>\n      <td>kyk na epos van jeff af</td>\n      <td>kyk na epos van [person : jeff] af</td>\n    </tr>\n  </tbody>\n</table>\n<p>16521 rows × 5 columns</p>\n</div>"
     },
     "execution_count": 38,
     "metadata": {},
     "output_type": "execute_result"
    }
   ],
   "source": [
    "def per_language_pivot_en(directory_path:str, filepath:str) -> DataFrame:\n",
    "    '''\n",
    "    This function returns a dataframe where utt, annon_utt are added to the base dataframe \n",
    "    for the specific passed file path\n",
    "    :param directory_path: \n",
    "    :param filepath: \n",
    "    :return: \n",
    "    '''\n",
    "    #Generating english base DataFrame\n",
    "    english_base_df = en_base_df(directory_path=\"directory_path\")\n",
    "    # Getting the language code from the file path\n",
    "    language_code = filepath[-11:-9]\n",
    "    # Getting the dataframe for the specific language\n",
    "    df = dataframe_gen_from_jsonl(file_path=filepath)\n",
    "    # Renaming the columns\n",
    "    df = df.rename(columns={\"id\": \"id\", \"utt\": f\"{language_code}_utt\", \"annot_utt\": f\"{language_code}_annot\"})\n",
    "    df = df[[\"id\",f\"{language_code}_utt\", f\"{language_code}_annot\"]]\n",
    "    # Merging the dataframes\n",
    "    merged_df = pd.merge(left=english_base_df, right=df, on=\"id\", how=\"left\")\n",
    "    # Returning the merged dataframe\n",
    "    return merged_df\n",
    "per_language_pivot_en(english_base_df=base_file, filepath=\"data\\\\af-ZA.jsonl\")\n",
    "    "
   ],
   "metadata": {
    "collapsed": false,
    "ExecuteTime": {
     "start_time": "2023-09-25T18:34:26.993243Z"
    }
   },
   "id": "f87fb7d07c212e80"
  },
  {
   "cell_type": "code",
   "execution_count": 49,
   "outputs": [],
   "source": [],
   "metadata": {
    "collapsed": false,
    "ExecuteTime": {
     "end_time": "2023-09-25T19:12:50.092653200Z",
     "start_time": "2023-09-25T19:12:50.060893600Z"
    }
   },
   "id": "1089d9d631715b10"
  }
 ],
 "metadata": {
  "kernelspec": {
   "display_name": "Python 3",
   "language": "python",
   "name": "python3"
  },
  "language_info": {
   "codemirror_mode": {
    "name": "ipython",
    "version": 2
   },
   "file_extension": ".py",
   "mimetype": "text/x-python",
   "name": "python",
   "nbconvert_exporter": "python",
   "pygments_lexer": "ipython2",
   "version": "2.7.6"
  }
 },
 "nbformat": 4,
 "nbformat_minor": 5
}
